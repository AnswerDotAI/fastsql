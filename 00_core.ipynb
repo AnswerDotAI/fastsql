{
 "cells": [
  {
   "cell_type": "code",
   "execution_count": null,
   "id": "daf89925",
   "metadata": {},
   "outputs": [],
   "source": [
    "#| default_exp core"
   ]
  },
  {
   "cell_type": "markdown",
   "id": "90e0d66c",
   "metadata": {},
   "source": [
    "# Source\n",
    "\n",
    "- Source code for FastSQL, a MiniDataAPI spec implementation for SQLAlchemy V2"
   ]
  },
  {
   "cell_type": "code",
   "execution_count": null,
   "id": "1e5e8057",
   "metadata": {},
   "outputs": [],
   "source": [
    "#| export\n",
    "from dataclasses import dataclass,is_dataclass,asdict,MISSING,fields\n",
    "import sqlalchemy as sa\n",
    "from sqlalchemy.orm import Session\n",
    "from fastcore.utils import *\n",
    "from fastcore.test import test_fail,test_eq\n",
    "from itertools import starmap"
   ]
  },
  {
   "cell_type": "markdown",
   "id": "60e0850b",
   "metadata": {},
   "source": [
    "## `Database` and `DBTable`"
   ]
  },
  {
   "cell_type": "markdown",
   "id": "34f72847",
   "metadata": {},
   "source": [
    "We create a `Database` class and a `DBTable` class (which is returned by `Database.create`), using sqlalchemy v2. These classes will allow us to directly work with dataclasses such as these:"
   ]
  },
  {
   "cell_type": "code",
   "execution_count": null,
   "id": "fa3abd3c",
   "metadata": {},
   "outputs": [],
   "source": [
    "class User: name:str; pwd:str\n",
    "class Todo: title:str; name:str; id:int; done:bool=False; details:str=''"
   ]
  },
  {
   "cell_type": "code",
   "execution_count": null,
   "id": "b68f79f2",
   "metadata": {},
   "outputs": [],
   "source": [
    "#| export\n",
    "class Database:\n",
    "    \"A connection to a SQLAlchemy database\"\n",
    "    def __init__(self, conn_str):\n",
    "        self.conn_str = conn_str\n",
    "        self.engine = sa.create_engine(conn_str)\n",
    "        self.meta = sa.MetaData()\n",
    "        self.meta.reflect(bind=self.engine)\n",
    "        self.meta.bind = self.engine\n",
    "        self.conn = self.engine.connect()\n",
    "        self.meta.conn = self.conn\n",
    "    \n",
    "    def execute(self, st, params=None, opts=None): return self.conn.execute(st, params, execution_options=opts)\n",
    "\n",
    "    def __repr__(self): return f\"Database({self.conn_str})\""
   ]
  },
  {
   "cell_type": "code",
   "execution_count": null,
   "id": "a91218d0",
   "metadata": {},
   "outputs": [],
   "source": [
    "db = Database(\"sqlite:///:memory:\")"
   ]
  },
  {
   "cell_type": "code",
   "execution_count": null,
   "id": "905cfcef",
   "metadata": {},
   "outputs": [],
   "source": [
    "#| export\n",
    "class DBTable:\n",
    "    \"A connection to a SQLAlchemy table, created if needed\"\n",
    "    def __init__(self, table: sa.Table, database: Database, cls):\n",
    "        self.table,self.db,self.cls,self.xtra_id = table,database,cls,{}\n",
    "        table.create(self.db.engine, checkfirst=True)\n",
    "\n",
    "    def __repr__(self) -> str: return self.table.name\n",
    "    \n",
    "    @property\n",
    "    def t(self)->tuple: return self.table,self.table.c\n",
    "    \n",
    "    @property\n",
    "    def pks(self)-> tuple: return tuple(self.table.primary_key) + tuple(self.table.c[o] for o in self.xtra_id.keys())\n",
    "    \n",
    "    @property\n",
    "    def conn(self): return self.db.conn\n",
    "\n",
    "    def xtra(self, **kwargs):\n",
    "        \"Set `xtra_id`\"\n",
    "        self.xtra_id = kwargs"
   ]
  },
  {
   "cell_type": "code",
   "execution_count": null,
   "id": "a99b81dd",
   "metadata": {},
   "outputs": [],
   "source": [
    "#| export\n",
    "_type_map = {int: sa.Integer, str: sa.String, bool: sa.Boolean}\n",
    "def _column(name, typ, primary=False): return sa.Column(name, _type_map[typ], primary_key=primary)"
   ]
  },
  {
   "cell_type": "code",
   "execution_count": null,
   "id": "78b0e411",
   "metadata": {},
   "outputs": [],
   "source": [
    "#| export\n",
    "@patch\n",
    "def create(self:Database, cls:type, pk='id', name:str|None=None):\n",
    "    \"Get a table object, creating in DB if needed\"\n",
    "    pk = listify(pk)\n",
    "    mk_dataclass(cls)\n",
    "    if name is None: name = camel2snake(cls.__name__)\n",
    "    cols = [_column(o.name, o.type, primary=o.name in pk) for o in fields(cls)]\n",
    "    tbl = sa.Table(name, self.meta, *cols, extend_existing=True)\n",
    "    return DBTable(tbl, self, cls)"
   ]
  },
  {
   "cell_type": "code",
   "execution_count": null,
   "id": "0b94139a",
   "metadata": {},
   "outputs": [],
   "source": [
    "users = db.create(User, pk='name')\n",
    "todos = db.create(Todo, pk='id')"
   ]
  },
  {
   "cell_type": "code",
   "execution_count": null,
   "id": "7f00cf84",
   "metadata": {},
   "outputs": [],
   "source": [
    "#| export\n",
    "@patch\n",
    "def schema(self:Database):\n",
    "    \"Show all tables and columns\"\n",
    "    inspector = sa.inspect(self.engine)\n",
    "    res = ''\n",
    "    for table_name in inspector.get_table_names():\n",
    "        res += f\"Table: {table_name}\\n\"\n",
    "        pk_cols = inspector.get_pk_constraint(table_name)['constrained_columns']\n",
    "        for column in inspector.get_columns(table_name):\n",
    "            pk_marker = '*' if column['name'] in pk_cols else '-'\n",
    "            res += f\"  {pk_marker} {column['name']}: {column['type']}\\n\"\n",
    "    return res"
   ]
  },
  {
   "cell_type": "code",
   "execution_count": null,
   "id": "e12cfd80",
   "metadata": {},
   "outputs": [
    {
     "name": "stdout",
     "output_type": "stream",
     "text": [
      "Table: todo\n",
      "  - title: VARCHAR\n",
      "  - name: VARCHAR\n",
      "  * id: INTEGER\n",
      "  - done: BOOLEAN\n",
      "  - details: VARCHAR\n",
      "Table: user\n",
      "  * name: VARCHAR\n",
      "  - pwd: VARCHAR\n",
      "\n"
     ]
    }
   ],
   "source": [
    "print(db.schema())"
   ]
  },
  {
   "cell_type": "code",
   "execution_count": null,
   "id": "04e09e2b",
   "metadata": {},
   "outputs": [],
   "source": [
    "#| export\n",
    "@patch\n",
    "def exists(self:DBTable):\n",
    "    \"Check if this table exists in the DB\"\n",
    "    return sa.inspect(self.db.engine).has_table(self.table.name)"
   ]
  },
  {
   "cell_type": "code",
   "execution_count": null,
   "id": "17c244d3",
   "metadata": {},
   "outputs": [
    {
     "data": {
      "text/plain": [
       "True"
      ]
     },
     "execution_count": null,
     "metadata": {},
     "output_type": "execute_result"
    }
   ],
   "source": [
    "users.exists()"
   ]
  },
  {
   "cell_type": "code",
   "execution_count": null,
   "id": "e1811100",
   "metadata": {},
   "outputs": [],
   "source": [
    "u0 = User('jph','foo')\n",
    "u1 = User('rlt','bar')\n",
    "t0 = Todo('do it', 'jph')"
   ]
  },
  {
   "cell_type": "code",
   "execution_count": null,
   "id": "dccb7273",
   "metadata": {},
   "outputs": [],
   "source": [
    "#| export\n",
    "def _wanted(obj): return {k:v for k,v in asdict(obj).items() if v not in (None,MISSING)}"
   ]
  },
  {
   "cell_type": "code",
   "execution_count": null,
   "id": "96fed40d",
   "metadata": {},
   "outputs": [],
   "source": [
    "#| export\n",
    "@patch\n",
    "def insert(self:DBTable, obj):\n",
    "    \"Insert an object into this table, and return it\"\n",
    "    d = {**_wanted(obj), **self.xtra_id}\n",
    "    result = self.conn.execute(sa.insert(self.table).values(**d).returning(*self.table.columns))\n",
    "    row = result.one()  # Consume the result set\n",
    "    self.conn.commit()\n",
    "    return self.cls(**row._asdict())"
   ]
  },
  {
   "cell_type": "code",
   "execution_count": null,
   "id": "9e893883",
   "metadata": {},
   "outputs": [
    {
     "data": {
      "text/plain": [
       "Todo(title='do it', name='jph', id=1, done=False, details='')"
      ]
     },
     "execution_count": null,
     "metadata": {},
     "output_type": "execute_result"
    }
   ],
   "source": [
    "t = todos.insert(t0)\n",
    "assert t.id\n",
    "t"
   ]
  },
  {
   "cell_type": "code",
   "execution_count": null,
   "id": "4c9cd6fb",
   "metadata": {},
   "outputs": [
    {
     "data": {
      "text/plain": [
       "User(name='jph', pwd='foo')"
      ]
     },
     "execution_count": null,
     "metadata": {},
     "output_type": "execute_result"
    }
   ],
   "source": [
    "u = users.insert(u0)\n",
    "assert u.name=='jph'\n",
    "users.insert(u1)\n",
    "u"
   ]
  },
  {
   "cell_type": "code",
   "execution_count": null,
   "id": "6191d1d9",
   "metadata": {},
   "outputs": [],
   "source": [
    "#| export\n",
    "@patch\n",
    "def __call__(\n",
    "    self:DBTable,\n",
    "    where:str|None=None,  # SQL where fragment to use, for example `id > ?`\n",
    "    where_args: Iterable|dict|NoneType=None, # Parameters to use with `where`; iterable for `id>?`, or dict for `id>:id`\n",
    "    order_by: str|None=None, # Column or fragment of SQL to order by\n",
    "    limit:int|None=None, # Number of rows to limit to\n",
    "    offset:int|None=None, # SQL offset\n",
    "    select:str = \"*\", # Comma-separated list of columns to select\n",
    "    **kw  # Combined with `where_args`\n",
    ")->list:\n",
    "    \"Result of `select` query on the table\"\n",
    "    if select == \"*\": query = sa.select(self.table)\n",
    "    else:\n",
    "        columns = [sa.text(col.strip()) for col in select.split(',')]\n",
    "        query = sa.select(*columns).select_from(self.table)\n",
    "    if where_args: kw = {**kw, **where_args}\n",
    "    xtra = self.xtra_id\n",
    "    if xtra:\n",
    "        xw = ' and '.join(f'\"{k}\" = {v!r}' for k,v in xtra.items())\n",
    "        where = f'{xw} and {where}' if where else xw\n",
    "    if where:\n",
    "        where = sa.text(where)\n",
    "        if kw: where = where.bindparams(**kw)\n",
    "        query = query.where(where)\n",
    "    if order_by: query = query.order_by(sa.text(order_by))\n",
    "    if limit is not None: query = query.limit(limit)\n",
    "    if offset is not None: query = query.offset(offset)\n",
    "    rows = self.conn.execute(query).all()\n",
    "    return [self.cls(**row._asdict()) for row in rows]"
   ]
  },
  {
   "cell_type": "code",
   "execution_count": null,
   "id": "fff626e0",
   "metadata": {},
   "outputs": [
    {
     "data": {
      "text/plain": [
       "[User(name='jph', pwd='foo'), User(name='rlt', pwd='bar')]"
      ]
     },
     "execution_count": null,
     "metadata": {},
     "output_type": "execute_result"
    }
   ],
   "source": [
    "assert users()==[u0,u1]\n",
    "users()"
   ]
  },
  {
   "cell_type": "code",
   "execution_count": null,
   "id": "9d586344",
   "metadata": {},
   "outputs": [
    {
     "data": {
      "text/plain": [
       "[User(name='rlt', pwd='bar')]"
      ]
     },
     "execution_count": null,
     "metadata": {},
     "output_type": "execute_result"
    }
   ],
   "source": [
    "r = users(where=\"pwd LIKE :pwd\", pwd=\"b%\")\n",
    "assert r==[u1]\n",
    "r"
   ]
  },
  {
   "cell_type": "code",
   "execution_count": null,
   "id": "0d98bf11",
   "metadata": {},
   "outputs": [
    {
     "data": {
      "text/plain": [
       "[User(name='rlt', pwd='bar')]"
      ]
     },
     "execution_count": null,
     "metadata": {},
     "output_type": "execute_result"
    }
   ],
   "source": [
    "users.xtra(name='rlt')\n",
    "users(order_by='name')"
   ]
  },
  {
   "cell_type": "code",
   "execution_count": null,
   "id": "946f2846",
   "metadata": {},
   "outputs": [
    {
     "data": {
      "text/plain": [
       "[User(name='rlt', pwd='bar')]"
      ]
     },
     "execution_count": null,
     "metadata": {},
     "output_type": "execute_result"
    }
   ],
   "source": [
    "users(where='name=\"rlt\"')"
   ]
  },
  {
   "cell_type": "code",
   "execution_count": null,
   "id": "447d6253",
   "metadata": {},
   "outputs": [
    {
     "data": {
      "text/plain": [
       "[]"
      ]
     },
     "execution_count": null,
     "metadata": {},
     "output_type": "execute_result"
    }
   ],
   "source": [
    "users(where='name=\"jph\"')"
   ]
  },
  {
   "cell_type": "code",
   "execution_count": null,
   "id": "8072e3bb",
   "metadata": {},
   "outputs": [
    {
     "data": {
      "text/plain": [
       "[Todo(title='do it', name='jph', id=1, done=False, details='')]"
      ]
     },
     "execution_count": null,
     "metadata": {},
     "output_type": "execute_result"
    }
   ],
   "source": [
    "assert len(todos())==1\n",
    "todos()"
   ]
  },
  {
   "cell_type": "code",
   "execution_count": null,
   "id": "38f4dc69",
   "metadata": {},
   "outputs": [],
   "source": [
    "#| export\n",
    "@patch\n",
    "def _pk_where(self:DBTable, meth,key):\n",
    "    if not isinstance(key,tuple): key = (key,)\n",
    "    xtra = getattr(self, 'xtra_id', {})\n",
    "    pkv = zip(self.pks, key + tuple(xtra.values()))\n",
    "    cond = sa.and_(*[col==val for col,val in pkv])\n",
    "#     print(cond.compile(compile_kwargs={\"literal_binds\": True}))\n",
    "    return getattr(self.table,meth)().where(cond)"
   ]
  },
  {
   "cell_type": "code",
   "execution_count": null,
   "id": "1fb0bdde",
   "metadata": {},
   "outputs": [],
   "source": [
    "#| export\n",
    "class NotFoundError(Exception): pass"
   ]
  },
  {
   "cell_type": "code",
   "execution_count": null,
   "id": "e4e2961f",
   "metadata": {},
   "outputs": [],
   "source": [
    "#| export\n",
    "@patch\n",
    "def __getitem__(self:DBTable, key):\n",
    "    \"Get item with PK `key`\"\n",
    "    qry = self._pk_where('select', key)\n",
    "    result = self.conn.execute(qry).first()\n",
    "    if not result: raise NotFoundError()\n",
    "    return self.cls(**result._asdict())"
   ]
  },
  {
   "cell_type": "code",
   "execution_count": null,
   "id": "1bee6427",
   "metadata": {},
   "outputs": [
    {
     "data": {
      "text/plain": [
       "User(name='jph', pwd='foo')"
      ]
     },
     "execution_count": null,
     "metadata": {},
     "output_type": "execute_result"
    }
   ],
   "source": [
    "users.xtra(name='jph')\n",
    "\n",
    "assert users['jph']==u0\n",
    "users['jph']"
   ]
  },
  {
   "cell_type": "code",
   "execution_count": null,
   "id": "b5b7d7a2",
   "metadata": {},
   "outputs": [],
   "source": [
    "users.xtra(name='rlt')\n",
    "test_fail(lambda: users['jph']==u0)"
   ]
  },
  {
   "cell_type": "code",
   "execution_count": null,
   "id": "c119a789",
   "metadata": {},
   "outputs": [],
   "source": [
    "#| export\n",
    "@patch\n",
    "def update(self:DBTable, obj):\n",
    "    d = _wanted(obj)\n",
    "    pks = tuple(d[k.name] for k in self.table.primary_key)\n",
    "    qry = self._pk_where('update', pks).values(**d).returning(*self.table.columns)\n",
    "    result = self.conn.execute(qry)\n",
    "    row = result.one()\n",
    "    self.conn.commit()\n",
    "    return self.cls(**row._asdict())"
   ]
  },
  {
   "cell_type": "code",
   "execution_count": null,
   "id": "b2c93d04",
   "metadata": {},
   "outputs": [
    {
     "data": {
      "text/plain": [
       "[User(name='jph', pwd='new'), User(name='rlt', pwd='bar')]"
      ]
     },
     "execution_count": null,
     "metadata": {},
     "output_type": "execute_result"
    }
   ],
   "source": [
    "users.xtra(name='jph')\n",
    "u.pwd = 'new'\n",
    "users.update(u)\n",
    "users.xtra()\n",
    "users()"
   ]
  },
  {
   "cell_type": "code",
   "execution_count": null,
   "id": "67f8c365",
   "metadata": {},
   "outputs": [],
   "source": [
    "users.xtra(name='rlt')\n",
    "u.pwd = 'foo'\n",
    "test_fail(lambda: users.update(u))\n",
    "users.xtra()\n",
    "test_eq(users['jph'].pwd, 'new')"
   ]
  },
  {
   "cell_type": "code",
   "execution_count": null,
   "id": "7ab4b0fb",
   "metadata": {},
   "outputs": [],
   "source": [
    "#| export\n",
    "@patch\n",
    "def delete(self:DBTable, key):\n",
    "    \"Delete item with PK `key` and return count deleted\"\n",
    "    result = self.conn.execute(self._pk_where('delete', key))\n",
    "    self.conn.commit()\n",
    "    return result.rowcount"
   ]
  },
  {
   "cell_type": "code",
   "execution_count": null,
   "id": "c60f59de",
   "metadata": {},
   "outputs": [],
   "source": [
    "assert users.delete('jph')\n",
    "test_fail(lambda: users['jph'])"
   ]
  },
  {
   "cell_type": "markdown",
   "id": "1eda1cc8",
   "metadata": {},
   "source": [
    "## SQLAlchemy helpers"
   ]
  },
  {
   "cell_type": "code",
   "execution_count": null,
   "id": "bd8573a8",
   "metadata": {},
   "outputs": [],
   "source": [
    "#| export\n",
    "from fastcore.net import urlsave\n",
    "\n",
    "from collections import namedtuple\n",
    "from sqlalchemy import create_engine,text,MetaData,Table,Column,engine,sql\n",
    "from sqlalchemy.sql.base import ReadOnlyColumnCollection\n",
    "from sqlalchemy.engine.base import Connection\n",
    "from sqlalchemy.engine.cursor import CursorResult"
   ]
  },
  {
   "cell_type": "code",
   "execution_count": null,
   "id": "31169586",
   "metadata": {},
   "outputs": [],
   "source": [
    "#| export\n",
    "@patch\n",
    "def __dir__(self:MetaData): return self._orig___dir__() + list(self.tables)\n",
    "\n",
    "@patch\n",
    "def __dir__(self:ReadOnlyColumnCollection): return self._orig___dir__() + self.keys()\n",
    "\n",
    "def _getattr_(self, n):\n",
    "    if n[0]=='_': raise AttributeError\n",
    "    if n in self.tables: return self.tables[n]\n",
    "    raise AttributeError\n",
    "\n",
    "MetaData.__getattr__ = _getattr_"
   ]
  },
  {
   "cell_type": "code",
   "execution_count": null,
   "id": "09131a1a",
   "metadata": {},
   "outputs": [],
   "source": [
    "dbm = db.meta"
   ]
  },
  {
   "cell_type": "code",
   "execution_count": null,
   "id": "5098192b",
   "metadata": {},
   "outputs": [
    {
     "data": {
      "text/plain": [
       "'user todo'"
      ]
     },
     "execution_count": null,
     "metadata": {},
     "output_type": "execute_result"
    }
   ],
   "source": [
    "' '.join(dbm.tables)"
   ]
  },
  {
   "cell_type": "code",
   "execution_count": null,
   "id": "a3b1d4cb",
   "metadata": {},
   "outputs": [],
   "source": [
    "t = dbm.todo"
   ]
  },
  {
   "cell_type": "code",
   "execution_count": null,
   "id": "7159d0a4",
   "metadata": {},
   "outputs": [
    {
     "data": {
      "text/plain": [
       "[Column('title', String(), table=<todo>),\n",
       " Column('name', String(), table=<todo>),\n",
       " Column('id', Integer(), table=<todo>, primary_key=True, nullable=False),\n",
       " Column('done', Boolean(), table=<todo>),\n",
       " Column('details', String(), table=<todo>)]"
      ]
     },
     "execution_count": null,
     "metadata": {},
     "output_type": "execute_result"
    }
   ],
   "source": [
    "list(t.c)"
   ]
  },
  {
   "cell_type": "code",
   "execution_count": null,
   "id": "30a31b8e",
   "metadata": {},
   "outputs": [],
   "source": [
    "#| export\n",
    "@patch\n",
    "def tuples(self:CursorResult, nm='Row'):\n",
    "    \"Get all results as named tuples\"\n",
    "    rs = self.mappings().fetchall()\n",
    "    nt = namedtuple(nm, self.keys())\n",
    "    return [nt(**o) for o in rs]\n",
    "\n",
    "@patch\n",
    "def sql(self:Connection, statement, nm='Row', *args, **kwargs):\n",
    "    \"Execute `statement` string and return results (if any)\"\n",
    "    if isinstance(statement,str): statement=text(statement)\n",
    "    t = self.execute(statement)\n",
    "    return t.tuples()\n",
    "\n",
    "@patch\n",
    "def sql(self:MetaData, statement, *args, **kwargs):\n",
    "    \"Execute `statement` string and return `DataFrame` of results (if any)\"\n",
    "    return self.conn.sql(statement, *args, **kwargs)"
   ]
  },
  {
   "cell_type": "code",
   "execution_count": null,
   "id": "d374b661",
   "metadata": {},
   "outputs": [
    {
     "data": {
      "text/plain": [
       "Row(name='rlt', pwd='bar')"
      ]
     },
     "execution_count": null,
     "metadata": {},
     "output_type": "execute_result"
    }
   ],
   "source": [
    "rs = dbm.sql('select * from user')\n",
    "rs[0]"
   ]
  },
  {
   "cell_type": "code",
   "execution_count": null,
   "id": "e2359ec9",
   "metadata": {},
   "outputs": [],
   "source": [
    "#| export\n",
    "@patch\n",
    "def get(self:Table, where=None, limit=None):\n",
    "    \"Select from table, optionally limited by `where` and `limit` clauses\"\n",
    "    return self.metadata.conn.sql(self.select().where(where).limit(limit))"
   ]
  },
  {
   "cell_type": "code",
   "execution_count": null,
   "id": "9aae09b5",
   "metadata": {},
   "outputs": [
    {
     "data": {
      "text/plain": [
       "[Row(title='do it', name='jph', id=1, done=False, details='')]"
      ]
     },
     "execution_count": null,
     "metadata": {},
     "output_type": "execute_result"
    }
   ],
   "source": [
    "t.get(t.c.title.startswith('d'), limit=5)"
   ]
  },
  {
   "cell_type": "markdown",
   "id": "b8e770b4",
   "metadata": {},
   "source": [
    "This is the query that will run behind the scenes:"
   ]
  },
  {
   "cell_type": "code",
   "execution_count": null,
   "id": "d0608fea",
   "metadata": {},
   "outputs": [
    {
     "name": "stdout",
     "output_type": "stream",
     "text": [
      "SELECT todo.title, todo.name, todo.id, todo.done, todo.details \n",
      "FROM todo \n",
      "WHERE (todo.title LIKE :title_1 || '%')\n",
      " LIMIT :param_1\n"
     ]
    }
   ],
   "source": [
    "print(t.select().where(t.c.title.startswith('d')).limit(5))"
   ]
  },
  {
   "cell_type": "code",
   "execution_count": null,
   "id": "2802f9e0",
   "metadata": {},
   "outputs": [],
   "source": [
    "#| export\n",
    "@patch\n",
    "def close(self:MetaData):\n",
    "    \"Close the connection\"\n",
    "    self.conn.close()"
   ]
  },
  {
   "cell_type": "code",
   "execution_count": null,
   "id": "c3a56571",
   "metadata": {},
   "outputs": [],
   "source": [
    "dbm.close()"
   ]
  },
  {
   "cell_type": "markdown",
   "id": "474e14b4",
   "metadata": {},
   "source": [
    "# Export -"
   ]
  },
  {
   "cell_type": "code",
   "execution_count": null,
   "id": "d211e8e2",
   "metadata": {},
   "outputs": [],
   "source": [
    "#|hide\n",
    "import nbdev; nbdev.nbdev_export()"
   ]
  },
  {
   "cell_type": "code",
   "execution_count": null,
   "id": "c371f6eb",
   "metadata": {},
   "outputs": [],
   "source": []
  }
 ],
 "metadata": {
  "kernelspec": {
   "display_name": "python3",
   "language": "python",
   "name": "python3"
  }
 },
 "nbformat": 4,
 "nbformat_minor": 5
}
